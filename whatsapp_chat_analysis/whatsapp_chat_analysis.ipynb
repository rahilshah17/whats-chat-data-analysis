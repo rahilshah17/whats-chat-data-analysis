{
 "cells": [
  {
   "cell_type": "code",
   "execution_count": 1,
   "id": "547e27e6",
   "metadata": {},
   "outputs": [
    {
     "name": "stdout",
     "output_type": "stream",
     "text": [
      "Collecting emoji\n",
      "  Downloading emoji-1.7.0.tar.gz (175 kB)\n",
      "Building wheels for collected packages: emoji\n",
      "  Building wheel for emoji (setup.py): started\n",
      "  Building wheel for emoji (setup.py): finished with status 'done'\n",
      "  Created wheel for emoji: filename=emoji-1.7.0-py3-none-any.whl size=171046 sha256=b1bcf36962a3ac3615ba18569c61d85db9b3120b50537cee006d70241b898a9e\n",
      "  Stored in directory: c:\\users\\rahil\\appdata\\local\\pip\\cache\\wheels\\fa\\7a\\e9\\22dd0515e1bad255e51663ee513a2fa839c95934c5fc301090\n",
      "Successfully built emoji\n",
      "Installing collected packages: emoji\n",
      "Successfully installed emoji-1.7.0\n",
      "Collecting jovian\n",
      "  Downloading jovian-0.2.41-py2.py3-none-any.whl (68 kB)\n",
      "Requirement already satisfied: requests in c:\\users\\rahil\\anaconda3\\lib\\site-packages (from jovian) (2.27.1)\n",
      "Collecting uuid\n",
      "  Downloading uuid-1.30.tar.gz (5.8 kB)\n",
      "Requirement already satisfied: pyyaml in c:\\users\\rahil\\anaconda3\\lib\\site-packages (from jovian) (6.0)\n",
      "Requirement already satisfied: click in c:\\users\\rahil\\anaconda3\\lib\\site-packages (from jovian) (8.0.4)\n",
      "Requirement already satisfied: colorama in c:\\users\\rahil\\anaconda3\\lib\\site-packages (from click->jovian) (0.4.4)\n",
      "Requirement already satisfied: urllib3<1.27,>=1.21.1 in c:\\users\\rahil\\anaconda3\\lib\\site-packages (from requests->jovian) (1.26.9)\n",
      "Requirement already satisfied: certifi>=2017.4.17 in c:\\users\\rahil\\anaconda3\\lib\\site-packages (from requests->jovian) (2021.10.8)\n",
      "Requirement already satisfied: charset-normalizer~=2.0.0 in c:\\users\\rahil\\anaconda3\\lib\\site-packages (from requests->jovian) (2.0.4)\n",
      "Requirement already satisfied: idna<4,>=2.5 in c:\\users\\rahil\\anaconda3\\lib\\site-packages (from requests->jovian) (3.3)\n",
      "Building wheels for collected packages: uuid\n",
      "  Building wheel for uuid (setup.py): started\n",
      "  Building wheel for uuid (setup.py): finished with status 'done'\n",
      "  Created wheel for uuid: filename=uuid-1.30-py3-none-any.whl size=6503 sha256=1b3920062bf4c4033a1dc53fc0056c272237ba7c016a838480abf79d188d0d0e\n",
      "  Stored in directory: c:\\users\\rahil\\appdata\\local\\pip\\cache\\wheels\\05\\d7\\b4\\4795d29c6decfffbf64c63e58b6c8b8bbfd4751488617dcd7a\n",
      "Successfully built uuid\n",
      "Installing collected packages: uuid, jovian\n",
      "Successfully installed jovian-0.2.41 uuid-1.30\n"
     ]
    },
    {
     "data": {
      "application/javascript": [
       "if (window.IPython && IPython.notebook.kernel) IPython.notebook.kernel.execute('jovian.utils.jupyter.get_notebook_name_saved = lambda: \"' + IPython.notebook.notebook_name + '\"')"
      ],
      "text/plain": [
       "<IPython.core.display.Javascript object>"
      ]
     },
     "metadata": {},
     "output_type": "display_data"
    },
    {
     "ename": "ModuleNotFoundError",
     "evalue": "No module named 'wordcloud'",
     "output_type": "error",
     "traceback": [
      "\u001b[1;31m---------------------------------------------------------------------------\u001b[0m",
      "\u001b[1;31mModuleNotFoundError\u001b[0m                       Traceback (most recent call last)",
      "Input \u001b[1;32mIn [1]\u001b[0m, in \u001b[0;36m<cell line: 10>\u001b[1;34m()\u001b[0m\n\u001b[0;32m      8\u001b[0m \u001b[38;5;28;01mimport\u001b[39;00m \u001b[38;5;21;01mmatplotlib\u001b[39;00m\u001b[38;5;21;01m.\u001b[39;00m\u001b[38;5;21;01mpyplot\u001b[39;00m \u001b[38;5;28;01mas\u001b[39;00m \u001b[38;5;21;01mplt\u001b[39;00m\n\u001b[0;32m      9\u001b[0m \u001b[38;5;28;01mimport\u001b[39;00m \u001b[38;5;21;01mseaborn\u001b[39;00m \u001b[38;5;28;01mas\u001b[39;00m \u001b[38;5;21;01msns\u001b[39;00m\n\u001b[1;32m---> 10\u001b[0m \u001b[38;5;28;01mfrom\u001b[39;00m \u001b[38;5;21;01mwordcloud\u001b[39;00m \u001b[38;5;28;01mimport\u001b[39;00m WordCloud, STOPWORDS\n\u001b[0;32m     11\u001b[0m \u001b[38;5;28;01mimport\u001b[39;00m \u001b[38;5;21;01memoji\u001b[39;00m\n\u001b[0;32m     12\u001b[0m \u001b[38;5;28;01mfrom\u001b[39;00m \u001b[38;5;21;01mcollections\u001b[39;00m \u001b[38;5;28;01mimport\u001b[39;00m Counter\n",
      "\u001b[1;31mModuleNotFoundError\u001b[0m: No module named 'wordcloud'"
     ]
    }
   ],
   "source": [
    "!pip install emoji --upgrade\n",
    "!pip install jovian --upgrade\n",
    "\n",
    "import re\n",
    "import jovian\n",
    "import numpy as np\n",
    "import pandas as pd\n",
    "import matplotlib.pyplot as plt\n",
    "import seaborn as sns\n",
    "from wordcloud import WordCloud, STOPWORDS\n",
    "import emoji\n",
    "from collections import Counter"
   ]
  },
  {
   "cell_type": "code",
   "execution_count": 7,
   "id": "8c3ef015",
   "metadata": {},
   "outputs": [],
   "source": [
    "def rawToDf(file, key):\n",
    "    '''Converts raw .txt file into a Data Frame'''\n",
    "    \n",
    "    split_formats = {\n",
    "        '12hr' : '\\d{1,2}/\\d{1,2}/\\d{2,4},\\s\\d{1,2}:\\d{2}\\s[APap][mM]\\s-\\s',\n",
    "        '24hr' : '\\d{1,2}/\\d{1,2}/\\d{2,4},\\s\\d{1,2}:\\d{2}\\s-\\s',\n",
    "        'custom' : ''\n",
    "    }\n",
    "    datetime_formats = {\n",
    "        '12hr' : '%d/%m/%Y, %I:%M %p - ',\n",
    "        '24hr' : '%d/%m/%Y, %H:%M - ',\n",
    "        'custom': ''\n",
    "    }\n",
    "    \n",
    "    with open(file, 'r', encoding='utf-8') as raw_data:\n",
    "        # print(raw_data.read())\n",
    "        raw_string = ' '.join(raw_data.read().split('\\n')) # converting the list split by newline char. as one whole string as there can be multi-line messages\n",
    "        user_msg = re.split(split_formats[key], raw_string) [1:] # splits at all the date-time pattern, resulting in list of all the messages with user names\n",
    "        date_time = re.findall(split_formats[key], raw_string) # finds all the date-time patterns\n",
    "        \n",
    "        df = pd.DataFrame({'date_time': date_time, 'user_msg': user_msg}) # exporting it to a df\n",
    "        \n",
    "    # converting date-time pattern which is of type String to type datetime,\n",
    "    # format is to be specified for the whole string where the placeholders are extracted by the method \n",
    "    df['date_time'] = pd.to_datetime(df['date_time'], format=datetime_formats[key])\n",
    "    \n",
    "    # split user and msg \n",
    "    usernames = []\n",
    "    msgs = []\n",
    "    for i in df['user_msg']:\n",
    "        a = re.split('([\\w\\W]+?):\\s', i) # lazy pattern match to first {user_name}: pattern and spliting it aka each msg from a user\n",
    "        if(a[1:]): # user typed messages\n",
    "            usernames.append(a[1])\n",
    "            msgs.append(a[2])\n",
    "        else: # other notifications in the group(eg: someone was added, some left ...)\n",
    "            usernames.append(\"group_notification\")\n",
    "            msgs.append(a[0])\n",
    "\n",
    "    # creating new columns         \n",
    "    df['user'] = usernames\n",
    "    df['message'] = msgs\n",
    "\n",
    "    # dropping the old user_msg col.\n",
    "    df.drop('user_msg', axis=1, inplace=True)\n",
    "    \n",
    "    return df\n"
   ]
  },
  {
   "cell_type": "code",
   "execution_count": 8,
   "id": "fac632a5",
   "metadata": {},
   "outputs": [],
   "source": [
    "filename = r\"C:\\Users\\Rahil\\Desktop\\College\\Resume\\projects\\whatsapp_chat_analysis\\whats_data.txt\"\n",
    "df = rawToDf(filename, '12hr')"
   ]
  },
  {
   "cell_type": "code",
   "execution_count": 9,
   "id": "a500d23c",
   "metadata": {},
   "outputs": [
    {
     "data": {
      "text/html": [
       "<div>\n",
       "<style scoped>\n",
       "    .dataframe tbody tr th:only-of-type {\n",
       "        vertical-align: middle;\n",
       "    }\n",
       "\n",
       "    .dataframe tbody tr th {\n",
       "        vertical-align: top;\n",
       "    }\n",
       "\n",
       "    .dataframe thead th {\n",
       "        text-align: right;\n",
       "    }\n",
       "</style>\n",
       "<table border=\"1\" class=\"dataframe\">\n",
       "  <thead>\n",
       "    <tr style=\"text-align: right;\">\n",
       "      <th></th>\n",
       "      <th>date_time</th>\n",
       "      <th>user</th>\n",
       "      <th>message</th>\n",
       "    </tr>\n",
       "  </thead>\n",
       "  <tbody>\n",
       "    <tr>\n",
       "      <th>0</th>\n",
       "      <td>2020-01-26 16:19:00</td>\n",
       "      <td>group_notification</td>\n",
       "      <td>Messages and calls are end-to-end encrypted. N...</td>\n",
       "    </tr>\n",
       "    <tr>\n",
       "      <th>1</th>\n",
       "      <td>2020-01-24 20:25:00</td>\n",
       "      <td>group_notification</td>\n",
       "      <td>Tanay Kamath (TSEC, CS) created group \"CODERS👨...</td>\n",
       "    </tr>\n",
       "    <tr>\n",
       "      <th>2</th>\n",
       "      <td>2020-01-26 16:19:00</td>\n",
       "      <td>group_notification</td>\n",
       "      <td>You joined using this group's invite link</td>\n",
       "    </tr>\n",
       "    <tr>\n",
       "      <th>3</th>\n",
       "      <td>2020-01-26 16:20:00</td>\n",
       "      <td>group_notification</td>\n",
       "      <td>+91 99871 38558 joined using this group's invi...</td>\n",
       "    </tr>\n",
       "    <tr>\n",
       "      <th>4</th>\n",
       "      <td>2020-01-26 16:20:00</td>\n",
       "      <td>group_notification</td>\n",
       "      <td>+91 91680 38866 joined using this group's invi...</td>\n",
       "    </tr>\n",
       "    <tr>\n",
       "      <th>...</th>\n",
       "      <td>...</td>\n",
       "      <td>...</td>\n",
       "      <td>...</td>\n",
       "    </tr>\n",
       "    <tr>\n",
       "      <th>13650</th>\n",
       "      <td>2020-10-02 02:05:00</td>\n",
       "      <td>Darshan Rander (TSEC, IT)</td>\n",
       "      <td>MCQs mark kiya</td>\n",
       "    </tr>\n",
       "    <tr>\n",
       "      <th>13651</th>\n",
       "      <td>2020-10-02 02:05:00</td>\n",
       "      <td>Darshan Rander (TSEC, IT)</td>\n",
       "      <td>Sign-in kiya😂😅</td>\n",
       "    </tr>\n",
       "    <tr>\n",
       "      <th>13652</th>\n",
       "      <td>2020-10-02 02:11:00</td>\n",
       "      <td>Tanay Kamath (TSEC, CS)</td>\n",
       "      <td>Incognito se na?</td>\n",
       "    </tr>\n",
       "    <tr>\n",
       "      <th>13653</th>\n",
       "      <td>2020-10-02 02:28:00</td>\n",
       "      <td>Darshan Rander (TSEC, IT)</td>\n",
       "      <td>Yup</td>\n",
       "    </tr>\n",
       "    <tr>\n",
       "      <th>13654</th>\n",
       "      <td>2020-10-02 10:13:00</td>\n",
       "      <td>Dheeraj Lalwani (TSEC, CS)</td>\n",
       "      <td>guys, please do me a favor and vote in this po...</td>\n",
       "    </tr>\n",
       "  </tbody>\n",
       "</table>\n",
       "<p>13655 rows × 3 columns</p>\n",
       "</div>"
      ],
      "text/plain": [
       "                date_time                        user  \\\n",
       "0     2020-01-26 16:19:00          group_notification   \n",
       "1     2020-01-24 20:25:00          group_notification   \n",
       "2     2020-01-26 16:19:00          group_notification   \n",
       "3     2020-01-26 16:20:00          group_notification   \n",
       "4     2020-01-26 16:20:00          group_notification   \n",
       "...                   ...                         ...   \n",
       "13650 2020-10-02 02:05:00   Darshan Rander (TSEC, IT)   \n",
       "13651 2020-10-02 02:05:00   Darshan Rander (TSEC, IT)   \n",
       "13652 2020-10-02 02:11:00     Tanay Kamath (TSEC, CS)   \n",
       "13653 2020-10-02 02:28:00   Darshan Rander (TSEC, IT)   \n",
       "13654 2020-10-02 10:13:00  Dheeraj Lalwani (TSEC, CS)   \n",
       "\n",
       "                                                 message  \n",
       "0      Messages and calls are end-to-end encrypted. N...  \n",
       "1      Tanay Kamath (TSEC, CS) created group \"CODERS👨...  \n",
       "2             You joined using this group's invite link   \n",
       "3      +91 99871 38558 joined using this group's invi...  \n",
       "4      +91 91680 38866 joined using this group's invi...  \n",
       "...                                                  ...  \n",
       "13650                                    MCQs mark kiya   \n",
       "13651                                    Sign-in kiya😂😅   \n",
       "13652                                  Incognito se na?   \n",
       "13653                                               Yup   \n",
       "13654  guys, please do me a favor and vote in this po...  \n",
       "\n",
       "[13655 rows x 3 columns]"
      ]
     },
     "execution_count": 9,
     "metadata": {},
     "output_type": "execute_result"
    }
   ],
   "source": [
    "df"
   ]
  },
  {
   "cell_type": "code",
   "execution_count": 10,
   "id": "7459b52a",
   "metadata": {},
   "outputs": [
    {
     "data": {
      "text/plain": [
       "(13655, 3)"
      ]
     },
     "execution_count": 10,
     "metadata": {},
     "output_type": "execute_result"
    }
   ],
   "source": [
    "df.shape"
   ]
  },
  {
   "cell_type": "code",
   "execution_count": 12,
   "id": "2c885ef1",
   "metadata": {},
   "outputs": [
    {
     "data": {
      "text/plain": [
       "(687, 3)"
      ]
     },
     "execution_count": 12,
     "metadata": {},
     "output_type": "execute_result"
    }
   ],
   "source": [
    "images = df[df['message'] == \"<Media omitted> \"]\n",
    "images.shape"
   ]
  },
  {
   "cell_type": "code",
   "execution_count": 13,
   "id": "b4d90aac",
   "metadata": {},
   "outputs": [
    {
     "data": {
      "text/plain": [
       "array(['group_notification', '+91 96536 93868',\n",
       "       'Dheeraj Lalwani (TSEC, CS)', '+91 99201 75875', '+91 95949 08570',\n",
       "       '+91 79778 76844', '+91 90499 38860', 'Tanay Kamath (TSEC, CS)',\n",
       "       'Saket (TSEC, CS)', '+91 77568 95072', 'Rohit Pathak (TSEC, CS)',\n",
       "       '+91 75078 05454', 'Darshan Rander (TSEC, IT)', '+91 79774 68083',\n",
       "       '+91 70394 60876', '+91 96191 55044', '+91 90678 93300',\n",
       "       'Mohit Varma (TSEC, CS)', '+91 79770 56210',\n",
       "       'Chirag Sharma (TSEC, CS)', 'Vivek Iyer (TSEC, Biomed)',\n",
       "       'Tushar Nankani', '+91 81696 22410', '+91 89764 07509',\n",
       "       '+91 78758 66747', 'Ankit (TSEC, CS)', '+91 86556 33169',\n",
       "       '+91 76663 28147', '+91 88284 70904', '+91 97698 67348',\n",
       "       'Vivek (TSEC, CS)', 'Hardik Raheja (TSEC, CS)', '+91 91680 38866',\n",
       "       'Pranay Thakur (TSEC, CS)', 'Mittul Dasani (TSEC, CS)',\n",
       "       'Kartik Soneji (TSEC, CS)', '+91 77180 43697', '+91 99676 84479',\n",
       "       'Shreya (TSEC, IT)', '+91 96190 16721', '+91 89833 85127',\n",
       "       '+91 82080 02653', '+91 99675 58551', '+91 90822 59476',\n",
       "       'Prithvi Rohira (TSEC, CS)', '+91 90820 98830',\n",
       "       'Mohammed (TSEC, EXTC)', '+91 96992 89993', '+91 83690 21693',\n",
       "       '+91 75064 86714', 'Pratik K (TSEC CS, SE)',\n",
       "       'Farhan Irani (TSEC IT, SE)', '+91 77000 27264',\n",
       "       'Harsh Kapadia (TSEC IT, SE)', 'Saurav Upoor (TSEC CS, SE)',\n",
       "       '+91 77180 82108', '+91 86559 19035', '+91 77150 51136',\n",
       "       '+91 91671 28174', '+91 84335 18102', '+91 84529 62233',\n",
       "       '+91 81080 96759', '+91 77384 72938', '+91 93243 92133',\n",
       "       '+91 97681 67131', '+91 98206 01141', '+91 84540 03063',\n",
       "       '+91 99693 94098', '+91 91363 39446', '+91 98192 22032',\n",
       "       '+91 88305 26885', '+91 70208 31915', '+91 98702 02065',\n",
       "       '+91 88282 22720', '+91 97027 35002', '+91 87796 52381',\n",
       "       '+91 97739 65140', '+91 97571 15289', 'Rishab Saini (TSEC CS, TE)',\n",
       "       '+91 94208 78848', '+91 93598 18687', '+91 73043 57388',\n",
       "       '+91 98331 51331', '+91 80979 84068', '+91 77158 99478',\n",
       "       '+91 79776 23387', '+91 99697 55118', '+91 95119 48511',\n",
       "       '+91 98337 61116', '+91 82916 21138', '+91 88889 97733',\n",
       "       '+91 97697 60869', '+91 99672 39663', '+91 87796 70896',\n",
       "       '+91 98191 73361', '+91 70219 80066', '+91 81696 11905',\n",
       "       '+91 72762 35231', '+91 79775 35465', '+91 97027 04646',\n",
       "       '+91 70450 40641', '+91 99204 26955', '+91 99696 99151',\n",
       "       '+91 98333 66146', '+91 95940 62134', '+91 77189 86205',\n",
       "       '+91 97694 89970', '+91 99302 21772', '+91 77109 79055',\n",
       "       '+91 96648 44643', '+91 98337 47258', 'Keyul Jain (TSEC, CS)',\n",
       "       '+91 98198 16330', '+91 88798 05171', '+91 92842 87810',\n",
       "       '+91 72495 29889', '+91 91677 97590',\n",
       "       'Trushant Narwani (TSEC, CS)', '+91 86528 77025',\n",
       "       '+91 77383 38799', 'Shubham Chettiar (TSEC CS, TE)',\n",
       "       '+91 86059 72817', '+91 83292 66084', '+91 82080 03744',\n",
       "       '+91 98670 44401', '+91 77098 73262', 'Sahil A (TSEC, CS-B)',\n",
       "       '+91 96194 00980', '+91 99304 97064', '+91 77699 70908',\n",
       "       '+91 98337 26449', '+91 97847 88658', '+91 82916 40581',\n",
       "       '+91 91670 43943', '+91 94044 50783', '+91 90821 58843',\n",
       "       '+91 97022 69539', '+91 73036 41107', '+91 88795 52797',\n",
       "       'Akash Khatri (TSEC, CS)', '+91 91525 25452', '+91 79778 03985',\n",
       "       '+91 91725 67828', '+91 98206 14506', '+91 70218 25025',\n",
       "       '+91 94200 70678', '+91 99203 34360', '+91 96374 40537',\n",
       "       '+91 98199 01072', '+91 91673 86883', '+91 73032 50500',\n",
       "       '+91 91362 39673', '+91 98501 32687', 'Kritanjali',\n",
       "       '+91 98709 38217'], dtype=object)"
      ]
     },
     "execution_count": 13,
     "metadata": {},
     "output_type": "execute_result"
    }
   ],
   "source": [
    "df['user'].unique()"
   ]
  },
  {
   "cell_type": "markdown",
   "id": "83af6494",
   "metadata": {},
   "source": [
    "Many people are there in this group"
   ]
  },
  {
   "cell_type": "markdown",
   "id": "3c8ae7c7",
   "metadata": {},
   "source": [
    "Let us find the number of users in this group"
   ]
  },
  {
   "cell_type": "code",
   "execution_count": 16,
   "id": "fe19adb7",
   "metadata": {},
   "outputs": [
    {
     "data": {
      "text/plain": [
       "155"
      ]
     },
     "execution_count": 16,
     "metadata": {},
     "output_type": "execute_result"
    }
   ],
   "source": [
    "len(df['user'].unique())"
   ]
  },
  {
   "cell_type": "markdown",
   "id": "f4163176",
   "metadata": {},
   "source": [
    "So, we find that there are in total 155 people who have texted in the group"
   ]
  },
  {
   "cell_type": "code",
   "execution_count": 17,
   "id": "baa45513",
   "metadata": {},
   "outputs": [],
   "source": [
    "df.drop(images.index, inplace=True)"
   ]
  },
  {
   "cell_type": "markdown",
   "id": "7061b604",
   "metadata": {},
   "source": [
    "Over here we deleted the images as they are no of no use for us currently. As in this project we not going to analyze images."
   ]
  },
  {
   "cell_type": "code",
   "execution_count": 18,
   "id": "013c7542",
   "metadata": {},
   "outputs": [],
   "source": [
    "df.reset_index(inplace=True, drop=True)"
   ]
  },
  {
   "cell_type": "code",
   "execution_count": 19,
   "id": "2a52ee93",
   "metadata": {},
   "outputs": [
    {
     "data": {
      "text/plain": [
       "(12968, 3)"
      ]
     },
     "execution_count": 19,
     "metadata": {},
     "output_type": "execute_result"
    }
   ],
   "source": [
    "df.shape"
   ]
  },
  {
   "cell_type": "markdown",
   "id": "b3701840",
   "metadata": {},
   "source": [
    "So, we get 12,968 rows of data for the analysis after cleaning and processing the data "
   ]
  },
  {
   "cell_type": "markdown",
   "id": "3ce71bfc",
   "metadata": {},
   "source": [
    "# So, let's start analyzing the data"
   ]
  },
  {
   "cell_type": "code",
   "execution_count": 21,
   "id": "2a568d3d",
   "metadata": {},
   "outputs": [
    {
     "data": {
      "text/plain": [
       "user\n",
       "Tanay Kamath (TSEC, CS)        2404\n",
       "Dheeraj Lalwani (TSEC, CS)     1821\n",
       "Darshan Rander (TSEC, IT)      1366\n",
       "Kartik Soneji (TSEC, CS)        826\n",
       "Harsh Kapadia (TSEC IT, SE)     754\n",
       "Name: message, dtype: int64"
      ]
     },
     "execution_count": 21,
     "metadata": {},
     "output_type": "execute_result"
    }
   ],
   "source": [
    "df1= df.groupby(\"user\")[\"message\"].count().sort_values(ascending=False)\n",
    "df1.head()"
   ]
  },
  {
   "cell_type": "markdown",
   "id": "c1b01d05",
   "metadata": {},
   "source": [
    "We find that the user Tanay Kamath was the most active on the whatsapp group.  "
   ]
  },
  {
   "cell_type": "code",
   "execution_count": 22,
   "id": "47878a0a",
   "metadata": {},
   "outputs": [
    {
     "data": {
      "text/html": [
       "<div>\n",
       "<style scoped>\n",
       "    .dataframe tbody tr th:only-of-type {\n",
       "        vertical-align: middle;\n",
       "    }\n",
       "\n",
       "    .dataframe tbody tr th {\n",
       "        vertical-align: top;\n",
       "    }\n",
       "\n",
       "    .dataframe thead th {\n",
       "        text-align: right;\n",
       "    }\n",
       "</style>\n",
       "<table border=\"1\" class=\"dataframe\">\n",
       "  <thead>\n",
       "    <tr style=\"text-align: right;\">\n",
       "      <th></th>\n",
       "      <th>date_time</th>\n",
       "      <th>user</th>\n",
       "      <th>message</th>\n",
       "    </tr>\n",
       "  </thead>\n",
       "  <tbody>\n",
       "    <tr>\n",
       "      <th>676</th>\n",
       "      <td>2020-02-12 18:35:00</td>\n",
       "      <td>Dheeraj Lalwani (TSEC, CS)</td>\n",
       "      <td>@918247578176  we seriously need some help Tha...</td>\n",
       "    </tr>\n",
       "    <tr>\n",
       "      <th>9437</th>\n",
       "      <td>2020-08-15 00:23:00</td>\n",
       "      <td>Harsh Kapadia (TSEC IT, SE)</td>\n",
       "      <td>Majak mat kar</td>\n",
       "    </tr>\n",
       "    <tr>\n",
       "      <th>3352</th>\n",
       "      <td>2020-03-20 23:14:00</td>\n",
       "      <td>+91 81696 22410</td>\n",
       "      <td></td>\n",
       "    </tr>\n",
       "    <tr>\n",
       "      <th>4298</th>\n",
       "      <td>2020-04-11 20:38:00</td>\n",
       "      <td>+91 97681 67131</td>\n",
       "      <td>Can someone help me with a example and explain...</td>\n",
       "    </tr>\n",
       "    <tr>\n",
       "      <th>767</th>\n",
       "      <td>2020-02-14 19:42:00</td>\n",
       "      <td>Dheeraj Lalwani (TSEC, CS)</td>\n",
       "      <td>Me</td>\n",
       "    </tr>\n",
       "    <tr>\n",
       "      <th>12871</th>\n",
       "      <td>2020-10-01 00:12:00</td>\n",
       "      <td>+91 88284 70904</td>\n",
       "      <td>Ah okay</td>\n",
       "    </tr>\n",
       "    <tr>\n",
       "      <th>10382</th>\n",
       "      <td>2020-08-30 00:25:00</td>\n",
       "      <td>Harsh Kapadia (TSEC IT, SE)</td>\n",
       "      <td>👍</td>\n",
       "    </tr>\n",
       "    <tr>\n",
       "      <th>9668</th>\n",
       "      <td>2020-08-24 11:45:00</td>\n",
       "      <td>+91 72495 29889</td>\n",
       "      <td>😂😂😂</td>\n",
       "    </tr>\n",
       "    <tr>\n",
       "      <th>3667</th>\n",
       "      <td>2020-03-24 21:06:00</td>\n",
       "      <td>+91 97571 15289</td>\n",
       "      <td>💯</td>\n",
       "    </tr>\n",
       "    <tr>\n",
       "      <th>12489</th>\n",
       "      <td>2020-09-26 20:31:00</td>\n",
       "      <td>Dheeraj Lalwani (TSEC, CS)</td>\n",
       "      <td>Just so amazing!</td>\n",
       "    </tr>\n",
       "  </tbody>\n",
       "</table>\n",
       "</div>"
      ],
      "text/plain": [
       "                date_time                         user  \\\n",
       "676   2020-02-12 18:35:00   Dheeraj Lalwani (TSEC, CS)   \n",
       "9437  2020-08-15 00:23:00  Harsh Kapadia (TSEC IT, SE)   \n",
       "3352  2020-03-20 23:14:00              +91 81696 22410   \n",
       "4298  2020-04-11 20:38:00              +91 97681 67131   \n",
       "767   2020-02-14 19:42:00   Dheeraj Lalwani (TSEC, CS)   \n",
       "12871 2020-10-01 00:12:00              +91 88284 70904   \n",
       "10382 2020-08-30 00:25:00  Harsh Kapadia (TSEC IT, SE)   \n",
       "9668  2020-08-24 11:45:00              +91 72495 29889   \n",
       "3667  2020-03-24 21:06:00              +91 97571 15289   \n",
       "12489 2020-09-26 20:31:00   Dheeraj Lalwani (TSEC, CS)   \n",
       "\n",
       "                                                 message  \n",
       "676    @918247578176  we seriously need some help Tha...  \n",
       "9437                                      Majak mat kar   \n",
       "3352                                                      \n",
       "4298   Can someone help me with a example and explain...  \n",
       "767                                                  Me   \n",
       "12871                                           Ah okay   \n",
       "10382                                                 👍   \n",
       "9668                                                😂😂😂   \n",
       "3667                                                  💯   \n",
       "12489                                  Just so amazing!   "
      ]
     },
     "execution_count": 22,
     "metadata": {},
     "output_type": "execute_result"
    }
   ],
   "source": [
    "df.sample(10)"
   ]
  },
  {
   "cell_type": "markdown",
   "id": "426a9b7d",
   "metadata": {},
   "source": [
    "We see there are some empty strings this maybe because it might contain emojis*"
   ]
  },
  {
   "cell_type": "code",
   "execution_count": 24,
   "id": "87e86e00",
   "metadata": {},
   "outputs": [
    {
     "data": {
      "text/html": [
       "<div>\n",
       "<style scoped>\n",
       "    .dataframe tbody tr th:only-of-type {\n",
       "        vertical-align: middle;\n",
       "    }\n",
       "\n",
       "    .dataframe tbody tr th {\n",
       "        vertical-align: top;\n",
       "    }\n",
       "\n",
       "    .dataframe thead th {\n",
       "        text-align: right;\n",
       "    }\n",
       "</style>\n",
       "<table border=\"1\" class=\"dataframe\">\n",
       "  <thead>\n",
       "    <tr style=\"text-align: right;\">\n",
       "      <th></th>\n",
       "      <th>date_time</th>\n",
       "      <th>user</th>\n",
       "      <th>message</th>\n",
       "    </tr>\n",
       "  </thead>\n",
       "  <tbody>\n",
       "    <tr>\n",
       "      <th>4570</th>\n",
       "      <td>2020-04-15 22:43:00</td>\n",
       "      <td>Pratik K (TSEC CS, SE)</td>\n",
       "      <td>```  int3(x,n,m)         bool check = 1;      ...</td>\n",
       "    </tr>\n",
       "    <tr>\n",
       "      <th>4868</th>\n",
       "      <td>2020-04-23 19:33:00</td>\n",
       "      <td>+91 70450 40641</td>\n",
       "      <td>😂😂😂</td>\n",
       "    </tr>\n",
       "    <tr>\n",
       "      <th>6700</th>\n",
       "      <td>2020-06-05 18:09:00</td>\n",
       "      <td>Tanay Kamath (TSEC, CS)</td>\n",
       "      <td>+1</td>\n",
       "    </tr>\n",
       "    <tr>\n",
       "      <th>10577</th>\n",
       "      <td>2020-09-03 14:05:00</td>\n",
       "      <td>Harsh Kapadia (TSEC IT, SE)</td>\n",
       "      <td>Damn they partnered with repl.it</td>\n",
       "    </tr>\n",
       "    <tr>\n",
       "      <th>11561</th>\n",
       "      <td>2020-09-13 20:10:00</td>\n",
       "      <td>+91 97739 65140</td>\n",
       "      <td>This message was deleted</td>\n",
       "    </tr>\n",
       "    <tr>\n",
       "      <th>5273</th>\n",
       "      <td>2020-05-02 01:19:00</td>\n",
       "      <td>Tanay Kamath (TSEC, CS)</td>\n",
       "      <td>can i get the solution to this problem(in Java...</td>\n",
       "    </tr>\n",
       "    <tr>\n",
       "      <th>10369</th>\n",
       "      <td>2020-08-28 00:45:00</td>\n",
       "      <td>Darshan Rander (TSEC, IT)</td>\n",
       "      <td>Yes do ask her questions</td>\n",
       "    </tr>\n",
       "    <tr>\n",
       "      <th>3512</th>\n",
       "      <td>2020-03-21 19:54:00</td>\n",
       "      <td>Saurav Upoor (TSEC CS, SE)</td>\n",
       "      <td>Do dry run and see whats happening</td>\n",
       "    </tr>\n",
       "    <tr>\n",
       "      <th>6913</th>\n",
       "      <td>2020-06-12 21:31:00</td>\n",
       "      <td>Kartik Soneji (TSEC, CS)</td>\n",
       "      <td>Log mujhe puch rahe hai ki mai kaha ja raha hu...</td>\n",
       "    </tr>\n",
       "    <tr>\n",
       "      <th>11704</th>\n",
       "      <td>2020-09-15 10:37:00</td>\n",
       "      <td>Harsh Kapadia (TSEC IT, SE)</td>\n",
       "      <td>😂</td>\n",
       "    </tr>\n",
       "  </tbody>\n",
       "</table>\n",
       "</div>"
      ],
      "text/plain": [
       "                date_time                         user  \\\n",
       "4570  2020-04-15 22:43:00       Pratik K (TSEC CS, SE)   \n",
       "4868  2020-04-23 19:33:00              +91 70450 40641   \n",
       "6700  2020-06-05 18:09:00      Tanay Kamath (TSEC, CS)   \n",
       "10577 2020-09-03 14:05:00  Harsh Kapadia (TSEC IT, SE)   \n",
       "11561 2020-09-13 20:10:00              +91 97739 65140   \n",
       "5273  2020-05-02 01:19:00      Tanay Kamath (TSEC, CS)   \n",
       "10369 2020-08-28 00:45:00    Darshan Rander (TSEC, IT)   \n",
       "3512  2020-03-21 19:54:00   Saurav Upoor (TSEC CS, SE)   \n",
       "6913  2020-06-12 21:31:00     Kartik Soneji (TSEC, CS)   \n",
       "11704 2020-09-15 10:37:00  Harsh Kapadia (TSEC IT, SE)   \n",
       "\n",
       "                                                 message  \n",
       "4570   ```  int3(x,n,m)         bool check = 1;      ...  \n",
       "4868                                                😂😂😂   \n",
       "6700                                                 +1   \n",
       "10577                  Damn they partnered with repl.it   \n",
       "11561                          This message was deleted   \n",
       "5273   can i get the solution to this problem(in Java...  \n",
       "10369                          Yes do ask her questions   \n",
       "3512                 Do dry run and see whats happening   \n",
       "6913   Log mujhe puch rahe hai ki mai kaha ja raha hu...  \n",
       "11704                                                 😂   "
      ]
     },
     "execution_count": 24,
     "metadata": {},
     "output_type": "execute_result"
    }
   ],
   "source": [
    "df.sample(10)"
   ]
  },
  {
   "cell_type": "code",
   "execution_count": 25,
   "id": "d918f9e8",
   "metadata": {},
   "outputs": [],
   "source": [
    "df['weekday'] = df['date_time'].apply(lambda x: x.day_name()) # can use day_name or weekday from datetime \n"
   ]
  },
  {
   "cell_type": "code",
   "execution_count": 26,
   "id": "6cef273e",
   "metadata": {},
   "outputs": [],
   "source": [
    "df['is_weekend'] = df.weekday.isin(['Sunday', 'Saturday'])"
   ]
  },
  {
   "cell_type": "code",
   "execution_count": 27,
   "id": "4c92c7e9",
   "metadata": {},
   "outputs": [
    {
     "data": {
      "text/plain": [
       "Tanay Kamath (TSEC, CS)        2404\n",
       "Dheeraj Lalwani (TSEC, CS)     1821\n",
       "Darshan Rander (TSEC, IT)      1366\n",
       "Kartik Soneji (TSEC, CS)        826\n",
       "Harsh Kapadia (TSEC IT, SE)     754\n",
       "                               ... \n",
       "+91 96194 00980                   1\n",
       "+91 89833 85127                   1\n",
       "+91 75064 86714                   1\n",
       "+91 97847 88658                   1\n",
       "+91 98709 38217                   1\n",
       "Name: user, Length: 153, dtype: int64"
      ]
     },
     "execution_count": 27,
     "metadata": {},
     "output_type": "execute_result"
    }
   ],
   "source": [
    "msgs_per_user = df['user'].value_counts(sort=True)\n",
    "msgs_per_user"
   ]
  },
  {
   "cell_type": "code",
   "execution_count": 28,
   "id": "7d11f368",
   "metadata": {},
   "outputs": [
    {
     "data": {
      "text/plain": [
       "['Tanay Kamath (TSEC, CS)',\n",
       " 'Dheeraj Lalwani (TSEC, CS)',\n",
       " 'Darshan Rander (TSEC, IT)',\n",
       " 'Kartik Soneji (TSEC, CS)',\n",
       " 'Harsh Kapadia (TSEC IT, SE)']"
      ]
     },
     "execution_count": 28,
     "metadata": {},
     "output_type": "execute_result"
    }
   ],
   "source": [
    "top5_users = msgs_per_user.index.tolist()[:5]\n",
    "top5_users"
   ]
  },
  {
   "cell_type": "code",
   "execution_count": 29,
   "id": "de8750eb",
   "metadata": {},
   "outputs": [
    {
     "data": {
      "text/html": [
       "<div>\n",
       "<style scoped>\n",
       "    .dataframe tbody tr th:only-of-type {\n",
       "        vertical-align: middle;\n",
       "    }\n",
       "\n",
       "    .dataframe tbody tr th {\n",
       "        vertical-align: top;\n",
       "    }\n",
       "\n",
       "    .dataframe thead th {\n",
       "        text-align: right;\n",
       "    }\n",
       "</style>\n",
       "<table border=\"1\" class=\"dataframe\">\n",
       "  <thead>\n",
       "    <tr style=\"text-align: right;\">\n",
       "      <th></th>\n",
       "      <th>date_time</th>\n",
       "      <th>user</th>\n",
       "      <th>message</th>\n",
       "      <th>weekday</th>\n",
       "      <th>is_weekend</th>\n",
       "    </tr>\n",
       "  </thead>\n",
       "  <tbody>\n",
       "    <tr>\n",
       "      <th>114</th>\n",
       "      <td>2020-01-27 19:31:00</td>\n",
       "      <td>Dheeraj Lalwani (TSEC, CS)</td>\n",
       "      <td>Alright</td>\n",
       "      <td>Monday</td>\n",
       "      <td>False</td>\n",
       "    </tr>\n",
       "    <tr>\n",
       "      <th>115</th>\n",
       "      <td>2020-01-27 19:32:00</td>\n",
       "      <td>Dheeraj Lalwani (TSEC, CS)</td>\n",
       "      <td>We can make this a trend</td>\n",
       "      <td>Monday</td>\n",
       "      <td>False</td>\n",
       "    </tr>\n",
       "    <tr>\n",
       "      <th>117</th>\n",
       "      <td>2020-01-27 19:32:00</td>\n",
       "      <td>Dheeraj Lalwani (TSEC, CS)</td>\n",
       "      <td>Everyday a new challenge</td>\n",
       "      <td>Monday</td>\n",
       "      <td>False</td>\n",
       "    </tr>\n",
       "    <tr>\n",
       "      <th>119</th>\n",
       "      <td>2020-01-27 19:43:00</td>\n",
       "      <td>Dheeraj Lalwani (TSEC, CS)</td>\n",
       "      <td>Yeah</td>\n",
       "      <td>Monday</td>\n",
       "      <td>False</td>\n",
       "    </tr>\n",
       "    <tr>\n",
       "      <th>120</th>\n",
       "      <td>2020-01-27 19:44:00</td>\n",
       "      <td>Dheeraj Lalwani (TSEC, CS)</td>\n",
       "      <td>Something or the other  So that we can build o...</td>\n",
       "      <td>Monday</td>\n",
       "      <td>False</td>\n",
       "    </tr>\n",
       "  </tbody>\n",
       "</table>\n",
       "</div>"
      ],
      "text/plain": [
       "              date_time                        user  \\\n",
       "114 2020-01-27 19:31:00  Dheeraj Lalwani (TSEC, CS)   \n",
       "115 2020-01-27 19:32:00  Dheeraj Lalwani (TSEC, CS)   \n",
       "117 2020-01-27 19:32:00  Dheeraj Lalwani (TSEC, CS)   \n",
       "119 2020-01-27 19:43:00  Dheeraj Lalwani (TSEC, CS)   \n",
       "120 2020-01-27 19:44:00  Dheeraj Lalwani (TSEC, CS)   \n",
       "\n",
       "                                               message weekday  is_weekend  \n",
       "114                                           Alright   Monday       False  \n",
       "115                          We can make this a trend   Monday       False  \n",
       "117                          Everyday a new challenge   Monday       False  \n",
       "119                                              Yeah   Monday       False  \n",
       "120  Something or the other  So that we can build o...  Monday       False  "
      ]
     },
     "execution_count": 29,
     "metadata": {},
     "output_type": "execute_result"
    }
   ],
   "source": [
    "df_top5 = df.copy()\n",
    "df_top5 = df_top5[df_top5.user.isin(top5_users)]\n",
    "df_top5.head()"
   ]
  },
  {
   "cell_type": "code",
   "execution_count": 37,
   "id": "3d1d07fe",
   "metadata": {},
   "outputs": [
    {
     "data": {
      "image/png": "[encoded data removed]",
      "text/plain": [
       "<Figure size 2160x720 with 1 Axes>"
      ]
     },
     "metadata": {
      "needs_background": "light"
     },
     "output_type": "display_data"
    }
   ],
   "source": [
    "plt.figure(figsize=(30,10))\n",
    "sns.countplot(x=df_top5['user'], hue=\"weekday\", data=df)\n",
    "plt.show()"
   ]
  },
  {
   "cell_type": "code",
   "execution_count": null,
   "id": "1c45b902",
   "metadata": {},
   "outputs": [],
   "source": []
  }
 ],
 "metadata": {
  "kernelspec": {
   "display_name": "Python 3 (ipykernel)",
   "language": "python",
   "name": "python3"
  },
  "language_info": {
   "codemirror_mode": {
    "name": "ipython",
    "version": 3
   },
   "file_extension": ".py",
   "mimetype": "text/x-python",
   "name": "python",
   "nbconvert_exporter": "python",
   "pygments_lexer": "ipython3",
   "version": "3.9.12"
  }
 },
 "nbformat": 4,
 "nbformat_minor": 5
}
